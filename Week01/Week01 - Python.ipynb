{
 "cells": [
  {
   "cell_type": "code",
   "execution_count": 188,
   "id": "16498035",
   "metadata": {},
   "outputs": [
    {
     "data": {
      "text/plain": [
       "(1, 'abc', True, 2.12315)"
      ]
     },
     "execution_count": 188,
     "metadata": {},
     "output_type": "execute_result"
    }
   ],
   "source": [
    "# Variables\n",
    "a = 1 # Declare with type Integer\n",
    "b = \"abc\" # Declare with type String\n",
    "c = True # Declare with type Boolean\n",
    "d = 2.12315 # Declare with type Float\n",
    "d = 1.61231231 # Redeclare\n",
    "d = \"no error\" # Redeclare with another type, String\n",
    "d = 2.12315\n",
    "\n",
    "\n",
    "a, b, c, d # Brute Print"
   ]
  },
  {
   "cell_type": "code",
   "execution_count": 189,
   "id": "23ef7fe7",
   "metadata": {},
   "outputs": [
    {
     "name": "stdout",
     "output_type": "stream",
     "text": [
      "[1, 1, 2, 2, 'asd']\n",
      "{1, 2, 'asd'}\n",
      "{'a': 1, 'b': 2, 'c': 3}\n"
     ]
    }
   ],
   "source": [
    "# List\n",
    "listt = [1, 1, 2, 2, 'asd']\n",
    "print(listt) # Not Unique\n",
    "\n",
    "# Set\n",
    "sett = {1, 1, 2, 2, 'asd'}\n",
    "print(sett) # Unique\n",
    "\n",
    "# Dict\n",
    "dictt = {'a': 1, 'b': 2, 'c': 3}\n",
    "print(dictt)"
   ]
  },
  {
   "cell_type": "code",
   "execution_count": 190,
   "id": "1dbc9452",
   "metadata": {},
   "outputs": [
    {
     "name": "stdout",
     "output_type": "stream",
     "text": [
      "Hello World\n",
      "\n",
      "a = 1, b = abc, c = True, d = 2.12315\n",
      "1, abc, True, 2.12315$$$\n",
      "Line 1\n",
      "Line 2\n"
     ]
    }
   ],
   "source": [
    "# Print function\n",
    "print(\"Hello World\")\n",
    "print(\"\")\n",
    "print(\"a = {}, b = {}, c = {}, d = {}\".format(a, b, c, d))\n",
    "print(a, b, c, d, sep=\", \", end=\"$$$\\n\")\n",
    "print(\"Line 1\\nLine 2\")"
   ]
  },
  {
   "cell_type": "code",
   "execution_count": 192,
   "id": "00bfd60c",
   "metadata": {},
   "outputs": [
    {
     "name": "stdout",
     "output_type": "stream",
     "text": [
      "addition : 5\n",
      "subtraction : 1\n",
      "multiplication : 6\n",
      "division : 1.5\n",
      "division with rounding to an integer  : 1\n",
      "square : 9\n",
      "modulus : 1\n",
      "PEMDAS : 12\n"
     ]
    }
   ],
   "source": [
    "# Arithmetic Operators\n",
    "print('addition :', 3 + 2)\n",
    "print('subtraction :', 3 - 2)\n",
    "print('multiplication :', 3 * 2)\n",
    "print('division :', 3 / 2)\n",
    "print('division with rounding to an integer  :', 3 // 2)\n",
    "print('square :', 3 ** 2)\n",
    "print('modulus :', 3 % 2)\n",
    "print('PEMDAS :', 3 + 8 * (4 - 2) - 7)"
   ]
  },
  {
   "cell_type": "code",
   "execution_count": 193,
   "id": "121570df",
   "metadata": {},
   "outputs": [
    {
     "name": "stdout",
     "output_type": "stream",
     "text": [
      "Number\n",
      "Equals to : True\n",
      "Not Equals to : True\n",
      "Less than : True\n",
      "Greather than : True\n",
      "Less than or equals to : True\n",
      "Greater than or equals to : True\n",
      "\n",
      "String\n",
      "Equals to : True\n",
      "Not Equals to : False\n",
      "Less than : True\n",
      "Greather than : True\n",
      "Less than or equals to : True\n",
      "Greater than or equals to : True\n"
     ]
    }
   ],
   "source": [
    "# Relational Operators\n",
    "print(\"Number\")\n",
    "print('equal to :', 123 == 123)\n",
    "print('Not equal to :', 123 != 122)\n",
    "print('Less than :', 122 < 123)\n",
    "print('Greather than :', 123 > 122)\n",
    "print('Less than or equal to :', 123 <= 123)\n",
    "print('Greater than or equal to :', 123 >= 123)\n",
    "print()\n",
    "print(\"String\")\n",
    "print('equal to :', 'abc' == 'abc')\n",
    "print('Not equal to :', 'abc' != 'abc')\n",
    "print('Less than :', 'aaa' < 'aab')\n",
    "print('Greather than :', 'aab' > 'aaa')\n",
    "print('Less than or equal to :', 'asd' <= 'asd')\n",
    "print('Greater than or equal to :', 'asd' >= 'asd')"
   ]
  },
  {
   "cell_type": "code",
   "execution_count": 212,
   "id": "6eeefee7",
   "metadata": {},
   "outputs": [
    {
     "name": "stdout",
     "output_type": "stream",
     "text": [
      "Executed\n",
      "\n",
      "A is greater than 15\n",
      "\n",
      "B is less than or equal to 15\n",
      "\n",
      "C is equal to 15\n",
      "\n",
      "d is 5 and e is 10\n",
      "D is greater than 1 AND E is greater than 1\n",
      "D is greater than 123 OR E is greater than 1\n"
     ]
    }
   ],
   "source": [
    "# Conditional Expression\n",
    "if (True):\n",
    "    print(\"Executed\")\n",
    "    \n",
    "if (False):\n",
    "    print(\"Not Executed\")\n",
    "\n",
    "print()\n",
    "    \n",
    "a = 20\n",
    "if a > 15:\n",
    "    print('A is greater than 15')\n",
    "elif a == 15:\n",
    "    print('A is equal to 15')\n",
    "else:\n",
    "    print('A is less than or equal to 15')\n",
    "    \n",
    "print()\n",
    "\n",
    "b = 10\n",
    "if b > 15:\n",
    "    print('B is greater than 15')\n",
    "elif b < 15:\n",
    "    print('B is less than or equal to 15')\n",
    "else:\n",
    "    print('B is equal to 15')\n",
    "\n",
    "print()\n",
    "\n",
    "c = 15\n",
    "if c > 15:\n",
    "    print('C is greater than 15')\n",
    "elif c < 15:\n",
    "    print('C is less than 15')\n",
    "else:\n",
    "    print('C is equal to 15')\n",
    "    \n",
    "print()\n",
    "\n",
    "d = 5\n",
    "e = 10\n",
    "\n",
    "print('d is {} and e is {}'.format(d, e))\n",
    "if d > 1 and e > 1:\n",
    "    print(\"D is greater than 1 AND E is greater than 1\")\n",
    "    \n",
    "if d > 123 or e > 1:\n",
    "    print(\"D is greater than 123 OR E is greater than 1\")"
   ]
  },
  {
   "cell_type": "code",
   "execution_count": 243,
   "id": "7dc128f9",
   "metadata": {},
   "outputs": [
    {
     "name": "stdout",
     "output_type": "stream",
     "text": [
      "Data is 1\n",
      "Data is 2\n",
      "Data is 3\n"
     ]
    }
   ],
   "source": [
    "# Loop - for .. in ..\n",
    "listt = [1, 2, 3]\n",
    "for data in listt:\n",
    "    print(f\"Data is {data}\")"
   ]
  },
  {
   "cell_type": "code",
   "execution_count": 244,
   "id": "4775c2b9",
   "metadata": {},
   "outputs": [
    {
     "name": "stdout",
     "output_type": "stream",
     "text": [
      "Number is 0\n",
      "Number is 1\n",
      "Number is 2\n",
      "Number is 3\n",
      "Number is 4\n",
      "\n",
      "Number is 1\n",
      "Number is 3\n",
      "Number is 5\n",
      "Number is 7\n",
      "Number is 9\n"
     ]
    }
   ],
   "source": [
    "# Loop - for .. in range ..\n",
    "for i in range(5): # 0 (default) to 5 (exclusive) with increment of 1 (default)\n",
    "    print(f\"Number is {i}\")\n",
    "\n",
    "print('')\n",
    "\n",
    "for i in range(1, 10, 2): # 1 to 10 (exclusive) with increment of 2\n",
    "    print(f\"Number is {i}\")"
   ]
  },
  {
   "cell_type": "code",
   "execution_count": 245,
   "id": "592061f8",
   "metadata": {},
   "outputs": [
    {
     "name": "stdout",
     "output_type": "stream",
     "text": [
      "Number is 0\n",
      "Number is 1\n",
      "Number is 2\n",
      "Number is 3\n",
      "Number is 4\n",
      "Number is 5\n",
      "Number is 6\n",
      "Number is 7\n",
      "Number is 8\n",
      "Number is 9\n"
     ]
    }
   ],
   "source": [
    "# Loop - while\n",
    "number = 0\n",
    "while number < 10:\n",
    "    print(f\"Number is {number}\")\n",
    "    number = number + 1"
   ]
  },
  {
   "cell_type": "code",
   "execution_count": 246,
   "id": "752bc134",
   "metadata": {},
   "outputs": [
    {
     "data": {
      "text/plain": [
       "[0, 1, 4, 9, 16, 25, 36, 49, 64, 81]"
      ]
     },
     "execution_count": 246,
     "metadata": {},
     "output_type": "execute_result"
    }
   ],
   "source": [
    "# List comprehensions\n",
    "[n**2 for n in range(10)]"
   ]
  },
  {
   "cell_type": "code",
   "execution_count": 252,
   "id": "3feebf4e",
   "metadata": {},
   "outputs": [
    {
     "data": {
      "text/plain": [
       "3"
      ]
     },
     "execution_count": 252,
     "metadata": {},
     "output_type": "execute_result"
    }
   ],
   "source": [
    "# Function\n",
    "def add(a, b):\n",
    "    c = a + b\n",
    "    return c\n",
    "\n",
    "add(1, 2)"
   ]
  },
  {
   "cell_type": "code",
   "execution_count": 253,
   "id": "ee7244b6",
   "metadata": {},
   "outputs": [
    {
     "name": "stdout",
     "output_type": "stream",
     "text": [
      "Current A is 0\n",
      "Current A is 1\n",
      "Current A is 2\n",
      "Current A is 3\n",
      "Current A is 4\n",
      "Current A is 5\n",
      "Current A is 6\n",
      "Current A is 7\n",
      "Current A is 8\n",
      "Current A is 9\n",
      "Current A is 10\n",
      "Current A is 11\n"
     ]
    },
    {
     "data": {
      "text/plain": [
       "11"
      ]
     },
     "execution_count": 253,
     "metadata": {},
     "output_type": "execute_result"
    }
   ],
   "source": [
    "# Recursive Function\n",
    "def inception(a):\n",
    "    print('Current A is ' + str(a))\n",
    "    if (a > 10): # Break Conditional / Base Case\n",
    "        return a\n",
    "    a += 1\n",
    "    return inception(a) # Recursive\n",
    "\n",
    "inception(0)"
   ]
  },
  {
   "cell_type": "code",
   "execution_count": 276,
   "id": "d22117dd",
   "metadata": {},
   "outputs": [
    {
     "name": "stdout",
     "output_type": "stream",
     "text": [
      "Length of string : 11\n",
      "\n",
      "multiline\n",
      "string\n",
      "\n",
      "Get character at : e\n",
      "\n",
      "Get substring at [0:5] : Hello\n",
      "Get substring at [:5] : Hello\n",
      "Get substring at [6:] : World\n"
     ]
    }
   ],
   "source": [
    "# Strings\n",
    "string = \"Hello World\"\n",
    "\n",
    "print('Length of string :', len(string))\n",
    "\n",
    "print()\n",
    "\n",
    "multilineString = \"\"\"multiline\n",
    "string\"\"\"\n",
    "print(multilineString)\n",
    "\n",
    "print()\n",
    "\n",
    "print('Get character at :', string[1])\n",
    "                                   \n",
    "print()\n",
    "\n",
    "print('Get substring at [0:5] :', string[0:5])\n",
    "print('Get substring at [:5] :', string[:5])\n",
    "print('Get substring at [6:] :', string[6:])"
   ]
  },
  {
   "cell_type": "code",
   "execution_count": 291,
   "id": "c2415211",
   "metadata": {},
   "outputs": [
    {
     "data": {
      "text/plain": [
       "3.0"
      ]
     },
     "execution_count": 291,
     "metadata": {},
     "output_type": "execute_result"
    }
   ],
   "source": [
    "# Import External Libraries\n",
    "import math\n",
    "\n",
    "math.log10(1000)"
   ]
  },
  {
   "cell_type": "code",
   "execution_count": 308,
   "id": "d11af58b",
   "metadata": {},
   "outputs": [
    {
     "name": "stdout",
     "output_type": "stream",
     "text": [
      "circle size : 10\n",
      "\n",
      "coloredCircle size : 10\n",
      "coloredCircle color : red\n"
     ]
    }
   ],
   "source": [
    "# Class\n",
    "class Shape:\n",
    "    def __init__(self, size):\n",
    "        self.size = size\n",
    "        \n",
    "circle = Shape(10)\n",
    "print('circle size :', circle.size)\n",
    "\n",
    "print()\n",
    "\n",
    "# Extended Class\n",
    "class ColoredShape(Shape):\n",
    "    def __init__(self, size, color):\n",
    "        super().__init__(size)\n",
    "        self.color = color\n",
    "\n",
    "coloredCircle = ColoredShape(10, 'red')\n",
    "print('coloredCircle size :', coloredCircle.size)\n",
    "print('coloredCircle color :', coloredCircle.color)"
   ]
  },
  {
   "cell_type": "code",
   "execution_count": null,
   "id": "ee9a16a8",
   "metadata": {},
   "outputs": [],
   "source": []
  }
 ],
 "metadata": {
  "kernelspec": {
   "display_name": "Python 3",
   "language": "python",
   "name": "python3"
  },
  "language_info": {
   "codemirror_mode": {
    "name": "ipython",
    "version": 3
   },
   "file_extension": ".py",
   "mimetype": "text/x-python",
   "name": "python",
   "nbconvert_exporter": "python",
   "pygments_lexer": "ipython3",
   "version": "3.8.5"
  }
 },
 "nbformat": 4,
 "nbformat_minor": 5
}
